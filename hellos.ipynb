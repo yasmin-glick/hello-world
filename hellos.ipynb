{
 "cells": [
  {
   "cell_type": "code",
   "execution_count": 3,
   "id": "63669d5c-a826-4685-84d0-7a2047ff56bf",
   "metadata": {},
   "outputs": [
    {
     "name": "stdin",
     "output_type": "stream",
     "text": [
      "Please enter your name! nidhi\n",
      "Please enter your favorite word pebble\n"
     ]
    },
    {
     "name": "stdout",
     "output_type": "stream",
     "text": [
      "This is nidhi and their favorite word is PEBBLE\n"
     ]
    }
   ],
   "source": [
    "name = input(\"Please enter your name!\")\n",
    "word = input(\"Please enter your favorite word\")\n",
    "word_upper = word.upper()\n",
    "print(\"This is \" + name + \" and their favorite word is \" + word_upper)\n"
   ]
  }
 ],
 "metadata": {
  "kernelspec": {
   "display_name": "Python 3 (ipykernel)",
   "language": "python",
   "name": "python3"
  },
  "language_info": {
   "codemirror_mode": {
    "name": "ipython",
    "version": 3
   },
   "file_extension": ".py",
   "mimetype": "text/x-python",
   "name": "python",
   "nbconvert_exporter": "python",
   "pygments_lexer": "ipython3",
   "version": "3.11.13"
  }
 },
 "nbformat": 4,
 "nbformat_minor": 5
}

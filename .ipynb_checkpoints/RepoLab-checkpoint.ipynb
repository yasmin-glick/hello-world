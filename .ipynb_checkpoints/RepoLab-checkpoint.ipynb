{
 "cells": [
  {
   "cell_type": "code",
   "execution_count": 6,
   "id": "3ec0a42f-ed41-413a-bf7e-6025dcc5ecde",
   "metadata": {},
   "outputs": [
    {
     "name": "stdin",
     "output_type": "stream",
     "text": [
      "Please enter your name! Lan\n",
      "Please enter your age! 19\n"
     ]
    },
    {
     "name": "stdout",
     "output_type": "stream",
     "text": [
      "This is Lan they are 19 years old.\n"
     ]
    }
   ],
   "source": [
    "user_input = input(\"Please enter your name!\")\n",
    "user_input2 = input(\"Please enter your age!\")\n",
    "print(\"This is \" + user_input + \" they are \" + user_input2 + \" years old.\")"
   ]
  },
  {
   "cell_type": "code",
   "execution_count": null,
   "id": "53e5f543-4926-4213-aaf9-c5f7add030cc",
   "metadata": {},
   "outputs": [],
   "source": []
  }
 ],
 "metadata": {
  "kernelspec": {
   "display_name": "Python 3 (ipykernel)",
   "language": "python",
   "name": "python3"
  },
  "language_info": {
   "codemirror_mode": {
    "name": "ipython",
    "version": 3
   },
   "file_extension": ".py",
   "mimetype": "text/x-python",
   "name": "python",
   "nbconvert_exporter": "python",
   "pygments_lexer": "ipython3",
   "version": "3.11.13"
  }
 },
 "nbformat": 4,
 "nbformat_minor": 5
}

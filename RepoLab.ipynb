{
 "cells": [
  {
   "cell_type": "code",
   "execution_count": null,
   "id": "3ec0a42f-ed41-413a-bf7e-6025dcc5ecde",
   "metadata": {},
   "outputs": [],
   "source": [
    "user_input = input(\"Please enter your name!\")"
   ]
  }
 ],
 "metadata": {
  "kernelspec": {
   "display_name": "Python 3 (ipykernel)",
   "language": "python",
   "name": "python3"
  },
  "language_info": {
   "codemirror_mode": {
    "name": "ipython",
    "version": 3
   },
   "file_extension": ".py",
   "mimetype": "text/x-python",
   "name": "python",
   "nbconvert_exporter": "python",
   "pygments_lexer": "ipython3",
   "version": "3.11.13"
  }
 },
 "nbformat": 4,
 "nbformat_minor": 5
}
